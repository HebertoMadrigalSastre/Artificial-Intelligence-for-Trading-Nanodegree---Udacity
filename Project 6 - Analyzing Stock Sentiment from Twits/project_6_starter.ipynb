{
 "cells": [
  {
   "cell_type": "markdown",
   "metadata": {},
   "source": [
    "# Project 6: Analyzing Stock Sentiment from Twits\n",
    "## Instructions\n",
    "Each problem consists of a function to implement and instructions on how to implement the function.  The parts of the function that need to be implemented are marked with a `# TODO` comment.\n",
    "\n",
    "## Packages\n",
    "When you implement the functions, you'll only need to you use the packages you've used in the classroom, like [Pandas](https://pandas.pydata.org/) and [Numpy](http://www.numpy.org/). These packages will be imported for you. We recommend you don't add any import statements, otherwise the grader might not be able to run your code.\n",
    "\n",
    "### Load Packages"
   ]
  },
  {
   "cell_type": "code",
   "execution_count": 1,
   "metadata": {},
   "outputs": [],
   "source": [
    "import json\n",
    "import nltk\n",
    "import os\n",
    "import random\n",
    "import re\n",
    "import torch\n",
    "\n",
    "from torch import nn, optim\n",
    "import torch.nn.functional as F"
   ]
  },
  {
   "cell_type": "markdown",
   "metadata": {},
   "source": [
    "## Introduction\n",
    "When deciding the value of a company, it's important to follow the news. For example, a product recall or natural disaster in a company's product chain. You want to be able to turn this information into a signal. Currently, the best tool for the job is a Neural Network. \n",
    "\n",
    "For this project, you'll use posts from the social media site [StockTwits](https://en.wikipedia.org/wiki/StockTwits). The community on StockTwits is full of investors, traders, and entrepreneurs. Each message posted is called a Twit. This is similar to Twitter's version of a post, called a Tweet. You'll build a model around these twits that generate a sentiment score.\n",
    "\n",
    "We've collected a bunch of twits, then hand labeled the sentiment of each. To capture the degree of sentiment, we'll use a five-point scale: very negative, negative, neutral, positive, very positive. Each twit is labeled -2 to 2 in steps of 1, from very negative to very positive respectively. You'll build a sentiment analysis model that will learn to assign sentiment to twits on its own, using this labeled data.\n",
    "\n",
    "The first thing we should to do, is load the data.\n",
    "\n",
    "## Import Twits \n",
    "### Load Twits Data \n",
    "This JSON file contains a list of objects for each twit in the `'data'` field:\n",
    "\n",
    "```\n",
    "{'data':\n",
    "  {'message_body': 'Neutral twit body text here',\n",
    "   'sentiment': 0},\n",
    "  {'message_body': 'Happy twit body text here',\n",
    "   'sentiment': 1},\n",
    "   ...\n",
    "}\n",
    "```\n",
    "\n",
    "The fields represent the following:\n",
    "\n",
    "* `'message_body'`: The text of the twit.\n",
    "* `'sentiment'`: Sentiment score for the twit, ranges from -2 to 2 in steps of 1, with 0 being neutral.\n",
    "\n",
    "\n",
    "To see what the data look like by printing the first 10 twits from the list. "
   ]
  },
  {
   "cell_type": "code",
   "execution_count": 2,
   "metadata": {},
   "outputs": [
    {
     "name": "stdout",
     "output_type": "stream",
     "text": [
      "[{'message_body': '$FITB great buy at 26.00...ill wait', 'sentiment': 2, 'timestamp': '2018-07-01T00:00:09Z'}, {'message_body': '@StockTwits $MSFT', 'sentiment': 1, 'timestamp': '2018-07-01T00:00:42Z'}, {'message_body': '#STAAnalystAlert for $TDG : Jefferies Maintains with a rating of Hold setting target price at USD 350.00. Our own verdict is Buy  http://www.stocktargetadvisor.com/toprating', 'sentiment': 2, 'timestamp': '2018-07-01T00:01:24Z'}, {'message_body': '$AMD I heard there’s a guy who knows someone who thinks somebody knows something - on StockTwits.', 'sentiment': 1, 'timestamp': '2018-07-01T00:01:47Z'}, {'message_body': '$AMD reveal yourself!', 'sentiment': 0, 'timestamp': '2018-07-01T00:02:13Z'}, {'message_body': '$AAPL Why the drop? I warren Buffet taking out his position?', 'sentiment': 1, 'timestamp': '2018-07-01T00:03:10Z'}, {'message_body': '$BA bears have 1 reason on 06-29 to pay more attention https://dividendbot.com?s=BA', 'sentiment': -2, 'timestamp': '2018-07-01T00:04:09Z'}, {'message_body': '$BAC ok good we&#39;re not dropping in price over the weekend, lol', 'sentiment': 1, 'timestamp': '2018-07-01T00:04:17Z'}, {'message_body': '$AMAT - Daily Chart, we need to get back to above 50.', 'sentiment': 2, 'timestamp': '2018-07-01T00:08:01Z'}, {'message_body': '$GME 3% drop per week after spike... if no news in 3 months, back to 12s... if BO, then bingo... what is the odds?', 'sentiment': -2, 'timestamp': '2018-07-01T00:09:03Z'}]\n"
     ]
    }
   ],
   "source": [
    "with open(os.path.join('..', '..', 'data', 'project_6_stocktwits', 'twits.json'), 'r') as f:\n",
    "    twits = json.load(f)\n",
    "\n",
    "print(twits['data'][:10])"
   ]
  },
  {
   "cell_type": "markdown",
   "metadata": {},
   "source": [
    "### Length of Data\n",
    "Now let's look at the number of twits in dataset. Print the number of twits below."
   ]
  },
  {
   "cell_type": "code",
   "execution_count": 3,
   "metadata": {},
   "outputs": [
    {
     "name": "stdout",
     "output_type": "stream",
     "text": [
      "Total twits: 1548010\n"
     ]
    }
   ],
   "source": [
    "\"\"\"print out the number of twits\"\"\"\n",
    "\n",
    "# TODO Implement \n",
    "\n",
    "print(f\"Total twits: {len(twits['data'])}\")"
   ]
  },
  {
   "cell_type": "markdown",
   "metadata": {},
   "source": [
    "### Split Message Body and Sentiment Score"
   ]
  },
  {
   "cell_type": "code",
   "execution_count": 4,
   "metadata": {},
   "outputs": [],
   "source": [
    "messages = [twit['message_body'] for twit in twits['data']]\n",
    "# Since the sentiment scores are discrete, we'll scale the sentiments to 0 to 4 for use in our network\n",
    "sentiments = [twit['sentiment'] + 2 for twit in twits['data']]"
   ]
  },
  {
   "cell_type": "markdown",
   "metadata": {},
   "source": [
    "## Preprocessing the Data\n",
    "With our data in hand we need to preprocess our text. These twits are collected by filtering on ticker symbols where these are denoted with a leader $ symbol in the twit itself. For example,\n",
    "\n",
    "`{'message_body': 'RT @google Our annual look at the year in Google blogging (and beyond) http://t.co/sptHOAh8 $GOOG',\n",
    " 'sentiment': 0}`\n",
    "\n",
    "The ticker symbols don't provide information on the sentiment, and they are in every twit, so we should remove them. This twit also has the `@google` username, again not providing sentiment information, so we should also remove it. We also see a URL `http://t.co/sptHOAh8`. Let's remove these too.\n",
    "\n",
    "The easiest way to remove specific words or phrases is with regex using the `re` module. You can sub out specific patterns with a space:\n",
    "\n",
    "```python\n",
    "re.sub(pattern, ' ', text)\n",
    "```\n",
    "This will substitute a space with anywhere the pattern matches in the text. Later when we tokenize the text, we'll split appropriately on those spaces."
   ]
  },
  {
   "cell_type": "markdown",
   "metadata": {},
   "source": [
    "### Pre-Processing"
   ]
  },
  {
   "cell_type": "code",
   "execution_count": 5,
   "metadata": {},
   "outputs": [
    {
     "name": "stdout",
     "output_type": "stream",
     "text": [
      "[nltk_data] Downloading package wordnet to /root/nltk_data...\n",
      "[nltk_data]   Unzipping corpora/wordnet.zip.\n"
     ]
    }
   ],
   "source": [
    "nltk.download('wordnet')\n",
    "\n",
    "\n",
    "def preprocess(message):\n",
    "    \"\"\"\n",
    "    This function takes a string as input, then performs these operations: \n",
    "        - lowercase\n",
    "        - remove URLs\n",
    "        - remove ticker symbols \n",
    "        - removes punctuation\n",
    "        - tokenize by splitting the string on whitespace \n",
    "        - removes any single character tokens\n",
    "    \n",
    "    Parameters\n",
    "    ----------\n",
    "        message : The text message to be preprocessed.\n",
    "        \n",
    "    Returns\n",
    "    -------\n",
    "        tokens: The preprocessed text into tokens.\n",
    "    \"\"\" \n",
    "    #TODO: Implement \n",
    "    \n",
    "    # Lowercase the twit message\n",
    "    text = message.lower()\n",
    "    \n",
    "    # Replace URLs with a space in the message\n",
    "    text = re.sub(r'http[^\\s]+', ' ', text)\n",
    "    \n",
    "    # Replace ticker symbols with a space. The ticker symbols are any stock symbol that starts with $.\n",
    "    text = re.sub(r'\\$[^\\s]+', ' ', text)\n",
    "    \n",
    "    # Replace StockTwits usernames with a space. The usernames are any word that starts with @.\n",
    "    text = re.sub(r'\\@[^\\s]+', ' ', text)\n",
    "\n",
    "    # Replace everything not a letter with a space\n",
    "    text = re.sub(r'[^a-z]', ' ', text)\n",
    "    \n",
    "    # Tokenize by splitting the string on whitespace into a list of words\n",
    "    tokens = text.split()\n",
    "\n",
    "    # Lemmatize words using the WordNetLemmatizer. You can ignore any word that is not longer than one character.\n",
    "    wnl = nltk.stem.WordNetLemmatizer()\n",
    "    tokens = [wnl.lemmatize(wnl.lemmatize(w, 'n'), 'v') for w in tokens if len(w) > 1]\n",
    "    \n",
    "    return tokens"
   ]
  },
  {
   "cell_type": "markdown",
   "metadata": {},
   "source": [
    "### Preprocess All the Twits \n",
    "Now we can preprocess each of the twits in our dataset. Apply the function `preprocess` to all the twit messages."
   ]
  },
  {
   "cell_type": "code",
   "execution_count": 6,
   "metadata": {},
   "outputs": [],
   "source": [
    "# TODO Implement\n",
    "\n",
    "tokenized = [preprocess(msg) for msg in messages]"
   ]
  },
  {
   "cell_type": "code",
   "execution_count": 7,
   "metadata": {},
   "outputs": [
    {
     "name": "stdout",
     "output_type": "stream",
     "text": [
      "Message:\t$FITB great buy at 26.00...ill wait\n",
      "Tokenized:\t['great', 'buy', 'at', 'ill', 'wait']\n",
      "\n",
      "Message:\t@StockTwits $MSFT\n",
      "Tokenized:\t[]\n",
      "\n",
      "Message:\t#STAAnalystAlert for $TDG : Jefferies Maintains with a rating of Hold setting target price at USD 350.00. Our own verdict is Buy  http://www.stocktargetadvisor.com/toprating\n",
      "Tokenized:\t['staanalystalert', 'for', 'jefferies', 'maintain', 'with', 'rat', 'of', 'hold', 'set', 'target', 'price', 'at', 'usd', 'our', 'own', 'verdict', 'be', 'buy']\n",
      "\n",
      "1548010\n"
     ]
    }
   ],
   "source": [
    "for i in range(3):\n",
    "    print(f'Message:\\t{messages[i]}')\n",
    "    print(f'Tokenized:\\t{tokenized[i]}\\n')\n",
    "    \n",
    "print(len(tokenized))\n"
   ]
  },
  {
   "cell_type": "markdown",
   "metadata": {},
   "source": [
    "### Bag of Words\n",
    "Now with all of our messages tokenized, we want to create a vocabulary and count up how often each word appears in our entire corpus. Use the [`Counter`](https://docs.python.org/3.1/library/collections.html#collections.Counter) function to count up all the tokens."
   ]
  },
  {
   "cell_type": "code",
   "execution_count": 8,
   "metadata": {},
   "outputs": [
    {
     "data": {
      "text/plain": [
       "90968"
      ]
     },
     "execution_count": 8,
     "metadata": {},
     "output_type": "execute_result"
    }
   ],
   "source": [
    "from collections import Counter\n",
    "\n",
    "\n",
    "\"\"\"\n",
    "Create a vocabulary by using Bag of words\n",
    "\"\"\"\n",
    "\n",
    "# TODO: Implement \n",
    "\n",
    "bow = Counter(' '.join([' '.join(msg) for msg in tokenized]).split())\n",
    "len(bow)"
   ]
  },
  {
   "cell_type": "markdown",
   "metadata": {},
   "source": [
    "### Frequency of Words Appearing in Message\n",
    "With our vocabulary, now we'll remove some of the most common words such as 'the', 'and', 'it', etc. These words don't contribute to identifying sentiment and are really common, resulting in a lot of noise in our input. If we can filter these out, then our network should have an easier time learning.\n",
    "\n",
    "We also want to remove really rare words that show up in a only a few twits. Here you'll want to divide the count of each word by the number of messages. Then remove words that only appear in some small fraction of the messages."
   ]
  },
  {
   "cell_type": "code",
   "execution_count": 9,
   "metadata": {},
   "outputs": [
    {
     "name": "stdout",
     "output_type": "stream",
     "text": [
      "9.689859884626068e-06\n",
      "['be', 'the', 'to', 'for', 'on', 'of', 'and', 'in', 'this', 'it', 'at', 'will', 'up', 'buy', 'report']\n"
     ]
    },
    {
     "data": {
      "text/plain": [
       "12895"
      ]
     },
     "execution_count": 9,
     "metadata": {},
     "output_type": "execute_result"
    }
   ],
   "source": [
    "\"\"\"\n",
    "Set the following variables:\n",
    "    freqs\n",
    "    low_cutoff\n",
    "    high_cutoff\n",
    "    K_most_common\n",
    "\"\"\"\n",
    "\n",
    "# TODO Implement \n",
    "\n",
    "bow_tuple_list = [(w, c) for w, c in bow.items()]\n",
    "sorted_vocab = sorted(bow_tuple_list, key=lambda word: word[1], reverse=True)\n",
    "\n",
    "total_msgs = len(tokenized)\n",
    "\n",
    "# Dictionary that contains the Frequency of words appearing in messages.\n",
    "# The key is the token and the value is the frequency of that word in the corpus.\n",
    "freqs = {w: c/total_msgs for w, c in bow.items()}\n",
    "\n",
    "# Float that is the frequency cutoff. Drop words with a frequency that is lower or equal to this number.\n",
    "min_word_count = 15\n",
    "low_cutoff = min_word_count / total_msgs\n",
    "print(low_cutoff)\n",
    "\n",
    "# Integer that is the cut off for most common words. Drop words that are the `high_cutoff` most common words.\n",
    "high_cutoff = min_word_count\n",
    "\n",
    "# The k most common words in the corpus. Use `high_cutoff` as the k.\n",
    "K_most_common = [t[0] for t in sorted_vocab[:high_cutoff]]\n",
    "\n",
    "filtered_words = [word for word in freqs if (freqs[word] > low_cutoff and word not in K_most_common)]\n",
    "print(K_most_common)\n",
    "len(filtered_words) "
   ]
  },
  {
   "cell_type": "markdown",
   "metadata": {},
   "source": [
    "### Updating Vocabulary by Removing Filtered Words\n",
    "Let's creat three variables that will help with our vocabulary."
   ]
  },
  {
   "cell_type": "code",
   "execution_count": 10,
   "metadata": {},
   "outputs": [
    {
     "name": "stdout",
     "output_type": "stream",
     "text": [
      "['great', 'ill', 'wait']\n"
     ]
    }
   ],
   "source": [
    "\"\"\"\n",
    "Set the following variables:\n",
    "    vocab\n",
    "    id2vocab\n",
    "    filtered\n",
    "\"\"\"\n",
    "\n",
    "#TODO Implement\n",
    "\n",
    "# A dictionary for the `filtered_words`. The key is the word and value is an id that represents the word. \n",
    "vocab = {w: i for i, w in enumerate(filtered_words)}\n",
    "\n",
    "# Reverse of the `vocab` dictionary. The key is word id and value is the word. \n",
    "id2vocab = {i: w for w, i in vocab.items() }\n",
    "\n",
    "# tokenized with the words not in `filtered_words` removed.\n",
    "filtered = [[w for w in msg if w in filtered_words] for msg in tokenized]  \n",
    "print(filtered[0])"
   ]
  },
  {
   "cell_type": "markdown",
   "metadata": {},
   "source": [
    "### Balancing the classes\n",
    "Let's do a few last pre-processing steps. If we look at how our twits are labeled, we'll find that 50% of them are neutral. This means that our network will be 50% accurate just by guessing 0 every single time. To help our network learn appropriately, we'll want to balance our classes.\n",
    "That is, make sure each of our different sentiment scores show up roughly as frequently in the data.\n",
    "\n",
    "What we can do here is go through each of our examples and randomly drop twits with neutral sentiment. What should be the probability we drop these twits if we want to get around 20% neutral twits starting at 50% neutral? We should also take this opportunity to remove messages with length 0."
   ]
  },
  {
   "cell_type": "code",
   "execution_count": 11,
   "metadata": {},
   "outputs": [],
   "source": [
    "balanced = {'messages': [], 'sentiments':[]}\n",
    "\n",
    "n_neutral = sum(1 for each in sentiments if each == 2)\n",
    "N_examples = len(sentiments)\n",
    "keep_prob = (N_examples - n_neutral)/4/n_neutral\n",
    "\n",
    "for idx, sentiment in enumerate(sentiments):\n",
    "    message = filtered[idx]\n",
    "    if len(message) == 0:\n",
    "        # skip this message because it has length zero\n",
    "        continue\n",
    "    elif sentiment != 2 or random.random() < keep_prob:\n",
    "        balanced['messages'].append(message)\n",
    "        balanced['sentiments'].append(sentiment) "
   ]
  },
  {
   "cell_type": "markdown",
   "metadata": {},
   "source": [
    "If you did it correctly, you should see the following result "
   ]
  },
  {
   "cell_type": "code",
   "execution_count": 12,
   "metadata": {},
   "outputs": [
    {
     "data": {
      "text/plain": [
       "0.19447426380777103"
      ]
     },
     "execution_count": 12,
     "metadata": {},
     "output_type": "execute_result"
    }
   ],
   "source": [
    "n_neutral = sum(1 for each in balanced['sentiments'] if each == 2)\n",
    "N_examples = len(balanced['sentiments'])\n",
    "n_neutral/N_examples"
   ]
  },
  {
   "cell_type": "markdown",
   "metadata": {},
   "source": [
    "Finally let's convert our tokens into integer ids which we can pass to the network."
   ]
  },
  {
   "cell_type": "code",
   "execution_count": 13,
   "metadata": {},
   "outputs": [],
   "source": [
    "token_ids = [[vocab[word] for word in message] for message in balanced['messages']]\n",
    "sentiments = balanced['sentiments']"
   ]
  },
  {
   "cell_type": "markdown",
   "metadata": {},
   "source": [
    "## Neural Network\n",
    "Now we have our vocabulary which means we can transform our tokens into ids, which are then passed to our network. So, let's define the network now!\n",
    "\n",
    "Here is a nice diagram showing the network we'd like to build: \n",
    "\n",
    "#### Embed -> RNN -> Dense -> Softmax\n",
    "### Implement the text classifier\n",
    "Before we build text classifier, if you remember from the other network that you built in  \"Sentiment Analysis with an RNN\"  exercise  - which there, the network called \" SentimentRNN\", here we named it \"TextClassifer\" - consists of three main parts: 1) init function `__init__` 2) forward pass `forward`  3) hidden state `init_hidden`. \n",
    "\n",
    "This network is pretty similar to the network you built expect in the  `forward` pass, we use softmax instead of sigmoid. The reason we are not using sigmoid is that the output of NN is not a binary. In our network, sentiment scores have 5 possible outcomes. We are looking for an outcome with the highest probability thus softmax is a better choice."
   ]
  },
  {
   "cell_type": "code",
   "execution_count": 14,
   "metadata": {},
   "outputs": [],
   "source": [
    "class TextClassifier(nn.Module):\n",
    "    def __init__(self, vocab_size, embed_size, lstm_size, output_size, lstm_layers=1, dropout=0.1):\n",
    "        \"\"\"\n",
    "        Initialize the model by setting up the layers.\n",
    "        \n",
    "        Parameters\n",
    "        ----------\n",
    "            vocab_size : The vocabulary size.\n",
    "            embed_size : The embedding layer size.\n",
    "            lstm_size : The LSTM layer size.\n",
    "            output_size : The output size.\n",
    "            lstm_layers : The number of LSTM layers.\n",
    "            dropout : The dropout probability.\n",
    "        \"\"\"\n",
    "        \n",
    "        super().__init__()\n",
    "        self.vocab_size = vocab_size\n",
    "        self.embed_size = embed_size\n",
    "        self.lstm_size = lstm_size\n",
    "        self.output_size = output_size\n",
    "        self.lstm_layers = lstm_layers\n",
    "        self.dropout = dropout\n",
    "        \n",
    "        # TODO Implement\n",
    "\n",
    "        # Setup embedding layer\n",
    "        self.embedding = nn.Embedding(self.vocab_size, self.embed_size)\n",
    "        \n",
    "        # Setup additional layers\n",
    "        self.lstm = nn.LSTM(self.embed_size, self.lstm_size, self.lstm_layers, dropout=self.dropout, batch_first=False)\n",
    "        self.dropout = nn.Dropout(0.3)\n",
    "        self.fc = nn.Linear(self.lstm_size, self.output_size)\n",
    "        self.logsoftmax = nn.LogSoftmax(dim=1)\n",
    "\n",
    "\n",
    "    def init_hidden(self, batch_size):\n",
    "        \"\"\" \n",
    "        Initializes hidden state\n",
    "        \n",
    "        Parameters\n",
    "        ----------\n",
    "            batch_size : The size of batches.\n",
    "        \n",
    "        Returns\n",
    "        -------\n",
    "            hidden_state\n",
    "            \n",
    "        \"\"\"\n",
    "        \n",
    "        # TODO Implement \n",
    "        \n",
    "        # Create two new tensors with sizes n_layers x batch_size x hidden_dim,\n",
    "        # initialized to zero, for hidden state and cell state of LSTM\n",
    "        \n",
    "        weights = next(self.parameters()).data\n",
    "        \n",
    "        hidden = (weights.new(self.lstm_layers, batch_size, self.lstm_size).zero_(),\n",
    "                  weights.new(self.lstm_layers, batch_size, self.lstm_size).zero_())\n",
    "        \n",
    "        return hidden\n",
    "\n",
    "\n",
    "    def forward(self, nn_input, hidden_state):\n",
    "        \"\"\"\n",
    "        Perform a forward pass of our model on nn_input.\n",
    "        \n",
    "        Parameters\n",
    "        ----------\n",
    "            nn_input : The batch of input to the NN.\n",
    "            hidden_state : The LSTM hidden state.\n",
    "\n",
    "        Returns\n",
    "        -------\n",
    "            logps: log softmax output\n",
    "            hidden_state: The new hidden state.\n",
    "\n",
    "        \"\"\"\n",
    "        \n",
    "        # TODO Implement\n",
    "        \n",
    "        batch_size = nn_input.size(1)\n",
    "        \n",
    "        embed_out = self.embedding(nn_input)\n",
    "        lst_out, hidden_state = self.lstm(embed_out, hidden_state)\n",
    "        #stack up lstm outputs\n",
    "        \n",
    "        #lst_out = lst_out.contiguous().view(-1, self.lstm_size)\n",
    "        lst_out = lst_out[-1,:,:]\n",
    "        \n",
    "        out = self.fc(self.dropout(lst_out))\n",
    "        sig_out = self.logsoftmax(out)\n",
    "        \n",
    "        return sig_out, hidden_state"
   ]
  },
  {
   "cell_type": "markdown",
   "metadata": {},
   "source": [
    "### View Model"
   ]
  },
  {
   "cell_type": "code",
   "execution_count": 15,
   "metadata": {},
   "outputs": [
    {
     "name": "stdout",
     "output_type": "stream",
     "text": [
      "tensor([[-1.5783, -1.4312, -2.0914, -1.5418, -1.5273],\n",
      "        [-1.7476, -1.4039, -1.9812, -1.6009, -1.4247],\n",
      "        [-1.8314, -1.3922, -1.9318, -1.4609, -1.5400],\n",
      "        [-1.7007, -1.4012, -1.9812, -1.4390, -1.6293]])\n"
     ]
    }
   ],
   "source": [
    "model = TextClassifier(len(vocab), 10, 6, 5, dropout=0.1, lstm_layers=2)\n",
    "model.embedding.weight.data.uniform_(-1, 1)\n",
    "input = torch.randint(0, 1000, (5, 4), dtype=torch.int64)\n",
    "hidden = model.init_hidden(4)\n",
    "\n",
    "logps, _ = model.forward(input, hidden)\n",
    "print(logps)"
   ]
  },
  {
   "cell_type": "markdown",
   "metadata": {},
   "source": [
    "## Training\n",
    "### DataLoaders and Batching\n",
    "Now we should build a generator that we can use to loop through our data. It'll be more efficient if we can pass our sequences in as batches. Our input tensors should look like `(sequence_length, batch_size)`. So if our sequences are 40 tokens long and we pass in 25 sequences, then we'd have an input size of `(40, 25)`.\n",
    "\n",
    "If we set our sequence length to 40, what do we do with messages that are more or less than 40 tokens? For messages with fewer than 40 tokens, we will pad the empty spots with zeros. We should be sure to **left** pad so that the RNN starts from nothing before going through the data. If the message has 20 tokens, then the first 20 spots of our 40 long sequence will be 0. If a message has more than 40 tokens, we'll just keep the first 40 tokens."
   ]
  },
  {
   "cell_type": "code",
   "execution_count": 16,
   "metadata": {},
   "outputs": [],
   "source": [
    "def dataloader(messages, labels, sequence_length=30, batch_size=32, shuffle=False):\n",
    "    \"\"\" \n",
    "    Build a dataloader.\n",
    "    \"\"\"\n",
    "    if shuffle:\n",
    "        indices = list(range(len(messages)))\n",
    "        random.shuffle(indices)\n",
    "        messages = [messages[idx] for idx in indices]\n",
    "        labels = [labels[idx] for idx in indices]\n",
    "\n",
    "    total_sequences = len(messages)\n",
    "\n",
    "    for ii in range(0, total_sequences, batch_size):\n",
    "        batch_messages = messages[ii: ii+batch_size]\n",
    "        \n",
    "        # First initialize a tensor of all zeros\n",
    "        batch = torch.zeros((sequence_length, len(batch_messages)), dtype=torch.int64)\n",
    "        for batch_num, tokens in enumerate(batch_messages):\n",
    "            token_tensor = torch.tensor(tokens)\n",
    "            # Left pad!\n",
    "            start_idx = max(sequence_length - len(token_tensor), 0)\n",
    "            batch[start_idx:, batch_num] = token_tensor[:sequence_length]\n",
    "        \n",
    "        label_tensor = torch.tensor(labels[ii: ii+len(batch_messages)])\n",
    "        \n",
    "        yield batch, label_tensor"
   ]
  },
  {
   "cell_type": "markdown",
   "metadata": {},
   "source": [
    "### Training and  Validation\n",
    "With our data in nice shape, we'll split it into training and validation sets."
   ]
  },
  {
   "cell_type": "code",
   "execution_count": 17,
   "metadata": {},
   "outputs": [],
   "source": [
    "\"\"\"\n",
    "Split data into training and validation datasets. Use an appropriate split size.\n",
    "The features are the `token_ids` and the labels are the `sentiments`.\n",
    "\"\"\"   \n",
    "\n",
    "# TODO Implement \n",
    "\n",
    "split_size = int(len(token_ids)*0.8)\n",
    "\n",
    "train_features = token_ids[:split_size]\n",
    "valid_features = token_ids[split_size:]\n",
    "train_labels = sentiments[:split_size]\n",
    "valid_labels = sentiments[split_size:]"
   ]
  },
  {
   "cell_type": "code",
   "execution_count": 18,
   "metadata": {},
   "outputs": [],
   "source": [
    "text_batch, labels = next(iter(dataloader(train_features, train_labels, sequence_length=20, batch_size=64)))\n",
    "model = TextClassifier(len(vocab)+1, 200, 128, 5, dropout=0.)\n",
    "hidden = model.init_hidden(64)\n",
    "logps, hidden = model.forward(text_batch, hidden)"
   ]
  },
  {
   "cell_type": "markdown",
   "metadata": {},
   "source": [
    "### Training\n",
    "It's time to train the neural network!"
   ]
  },
  {
   "cell_type": "code",
   "execution_count": 19,
   "metadata": {},
   "outputs": [
    {
     "data": {
      "text/plain": [
       "TextClassifier(\n",
       "  (embedding): Embedding(12896, 1024)\n",
       "  (lstm): LSTM(1024, 512, num_layers=2, dropout=0.2)\n",
       "  (dropout): Dropout(p=0.3)\n",
       "  (fc): Linear(in_features=512, out_features=5, bias=True)\n",
       "  (logsoftmax): LogSoftmax()\n",
       ")"
      ]
     },
     "execution_count": 19,
     "metadata": {},
     "output_type": "execute_result"
    }
   ],
   "source": [
    "device = torch.device(\"cuda\" if torch.cuda.is_available() else \"cpu\")\n",
    "\n",
    "model = TextClassifier(len(vocab)+1, 1024, 512, 5, lstm_layers=2, dropout=0.2)\n",
    "model.embedding.weight.data.uniform_(-1, 1)\n",
    "model.to(device)"
   ]
  },
  {
   "cell_type": "code",
   "execution_count": 20,
   "metadata": {},
   "outputs": [
    {
     "name": "stdout",
     "output_type": "stream",
     "text": [
      "Starting epoch 1\n",
      "Epoch: 1/2     Step: 100     Train_loss: 1.3441     Val_loss: 1.2241     Val_accuracy: 0.4886\n",
      "Epoch: 1/2     Step: 200     Train_loss: 1.1466     Val_loss: 1.1358     Val_accuracy: 0.5273\n",
      "Epoch: 1/2     Step: 300     Train_loss: 1.0778     Val_loss: 1.0851     Val_accuracy: 0.5571\n",
      "Epoch: 1/2     Step: 400     Train_loss: 1.0171     Val_loss: 1.0554     Val_accuracy: 0.5769\n",
      "Epoch: 1/2     Step: 500     Train_loss: 0.9908     Val_loss: 1.0213     Val_accuracy: 0.5890\n",
      "Epoch: 1/2     Step: 600     Train_loss: 0.9742     Val_loss: 1.0069     Val_accuracy: 0.5974\n",
      "Epoch: 1/2     Step: 700     Train_loss: 0.9563     Val_loss: 0.9930     Val_accuracy: 0.5985\n",
      "Epoch: 1/2     Step: 800     Train_loss: 0.9443     Val_loss: 0.9728     Val_accuracy: 0.6170\n",
      "Epoch: 1/2     Step: 900     Train_loss: 0.9314     Val_loss: 0.9592     Val_accuracy: 0.6169\n",
      "Epoch: 1/2     Step: 1000     Train_loss: 0.9103     Val_loss: 0.9573     Val_accuracy: 0.6213\n",
      "Epoch: 1/2     Step: 1100     Train_loss: 0.9144     Val_loss: 0.9375     Val_accuracy: 0.6305\n",
      "Epoch: 1/2     Step: 1200     Train_loss: 0.9015     Val_loss: 0.9416     Val_accuracy: 0.6300\n",
      "Epoch: 1/2     Step: 1300     Train_loss: 0.8839     Val_loss: 0.9317     Val_accuracy: 0.6305\n",
      "Epoch: 1/2     Step: 1400     Train_loss: 0.8994     Val_loss: 0.9161     Val_accuracy: 0.6419\n",
      "Epoch: 1/2     Step: 1500     Train_loss: 0.8834     Val_loss: 0.9265     Val_accuracy: 0.6340\n",
      "Epoch: 1/2     Step: 1600     Train_loss: 0.8831     Val_loss: 0.9096     Val_accuracy: 0.6438\n",
      "Epoch: 1/2     Step: 1700     Train_loss: 0.8721     Val_loss: 0.9082     Val_accuracy: 0.6416\n",
      "Epoch: 1/2     Step: 1800     Train_loss: 0.8759     Val_loss: 0.8957     Val_accuracy: 0.6489\n",
      "Epoch: 1/2     Step: 1900     Train_loss: 0.8802     Val_loss: 0.8947     Val_accuracy: 0.6494\n",
      "Epoch: 1/2     Step: 2000     Train_loss: 0.8618     Val_loss: 0.8872     Val_accuracy: 0.6533\n",
      "Epoch: 1/2     Step: 2100     Train_loss: 0.8655     Val_loss: 0.8835     Val_accuracy: 0.6542\n",
      "Epoch: 1/2     Step: 2200     Train_loss: 0.8638     Val_loss: 0.8820     Val_accuracy: 0.6561\n",
      "Epoch: 1/2     Step: 2300     Train_loss: 0.8518     Val_loss: 0.8828     Val_accuracy: 0.6577\n",
      "Epoch: 1/2     Step: 2400     Train_loss: 0.8497     Val_loss: 0.8790     Val_accuracy: 0.6550\n",
      "Epoch: 1/2     Step: 2500     Train_loss: 0.8575     Val_loss: 0.8755     Val_accuracy: 0.6576\n",
      "Epoch: 1/2     Step: 2600     Train_loss: 0.8463     Val_loss: 0.8765     Val_accuracy: 0.6585\n",
      "Epoch: 1/2     Step: 2700     Train_loss: 0.8432     Val_loss: 0.8709     Val_accuracy: 0.6592\n",
      "Epoch: 1/2     Step: 2800     Train_loss: 0.8553     Val_loss: 0.8741     Val_accuracy: 0.6591\n",
      "Epoch: 1/2     Step: 2900     Train_loss: 0.8400     Val_loss: 0.8668     Val_accuracy: 0.6568\n",
      "Epoch: 1/2     Step: 3000     Train_loss: 0.8485     Val_loss: 0.8661     Val_accuracy: 0.6612\n",
      "Epoch: 1/2     Step: 3100     Train_loss: 0.8401     Val_loss: 0.8668     Val_accuracy: 0.6613\n",
      "Epoch: 1/2     Step: 3200     Train_loss: 0.8311     Val_loss: 0.8587     Val_accuracy: 0.6665\n",
      "Epoch: 1/2     Step: 3300     Train_loss: 0.8301     Val_loss: 0.8632     Val_accuracy: 0.6629\n",
      "Epoch: 1/2     Step: 3400     Train_loss: 0.8218     Val_loss: 0.8543     Val_accuracy: 0.6660\n",
      "Epoch: 1/2     Step: 3500     Train_loss: 0.8194     Val_loss: 0.8553     Val_accuracy: 0.6667\n",
      "Epoch: 1/2     Step: 3600     Train_loss: 0.8227     Val_loss: 0.8539     Val_accuracy: 0.6683\n",
      "Epoch: 1/2     Step: 3700     Train_loss: 0.8252     Val_loss: 0.8504     Val_accuracy: 0.6679\n",
      "Epoch: 1/2     Step: 3800     Train_loss: 0.8169     Val_loss: 0.8492     Val_accuracy: 0.6686\n",
      "Epoch: 1/2     Step: 3900     Train_loss: 0.8242     Val_loss: 0.8469     Val_accuracy: 0.6691\n",
      "Epoch: 1/2     Step: 4000     Train_loss: 0.8227     Val_loss: 0.8443     Val_accuracy: 0.6711\n",
      "Epoch: 1/2     Step: 4100     Train_loss: 0.8095     Val_loss: 0.8452     Val_accuracy: 0.6703\n",
      "Epoch: 1/2     Step: 4200     Train_loss: 0.8163     Val_loss: 0.8436     Val_accuracy: 0.6702\n",
      "Epoch: 1/2     Step: 4300     Train_loss: 0.8038     Val_loss: 0.8414     Val_accuracy: 0.6733\n",
      "Epoch: 1/2     Step: 4400     Train_loss: 0.8210     Val_loss: 0.8413     Val_accuracy: 0.6737\n",
      "Epoch: 1/2     Step: 4500     Train_loss: 0.8194     Val_loss: 0.8437     Val_accuracy: 0.6713\n",
      "Epoch: 1/2     Step: 4600     Train_loss: 0.8097     Val_loss: 0.8429     Val_accuracy: 0.6705\n",
      "Epoch: 1/2     Step: 4700     Train_loss: 0.8070     Val_loss: 0.8477     Val_accuracy: 0.6686\n",
      "Epoch: 1/2     Step: 4800     Train_loss: 0.8119     Val_loss: 0.8376     Val_accuracy: 0.6739\n",
      "Epoch: 1/2     Step: 4900     Train_loss: 0.8004     Val_loss: 0.8403     Val_accuracy: 0.6733\n",
      "Epoch: 1/2     Step: 5000     Train_loss: 0.8119     Val_loss: 0.8351     Val_accuracy: 0.6759\n",
      "Epoch: 1/2     Step: 5100     Train_loss: 0.7997     Val_loss: 0.8390     Val_accuracy: 0.6720\n",
      "Epoch: 1/2     Step: 5200     Train_loss: 0.8063     Val_loss: 0.8324     Val_accuracy: 0.6758\n",
      "Epoch: 1/2     Step: 5300     Train_loss: 0.8218     Val_loss: 0.8314     Val_accuracy: 0.6778\n",
      "Epoch: 1/2     Step: 5400     Train_loss: 0.7956     Val_loss: 0.8327     Val_accuracy: 0.6743\n",
      "Epoch: 1/2     Step: 5500     Train_loss: 0.7949     Val_loss: 0.8299     Val_accuracy: 0.6785\n",
      "Epoch: 1/2     Step: 5600     Train_loss: 0.7990     Val_loss: 0.8301     Val_accuracy: 0.6745\n",
      "Epoch: 1/2     Step: 5700     Train_loss: 0.7936     Val_loss: 0.8294     Val_accuracy: 0.6747\n",
      "Epoch: 1/2     Step: 5800     Train_loss: 0.8151     Val_loss: 0.8293     Val_accuracy: 0.6751\n",
      "Epoch: 1/2     Step: 5900     Train_loss: 0.8023     Val_loss: 0.8316     Val_accuracy: 0.6763\n",
      "Epoch: 1/2     Step: 6000     Train_loss: 0.8130     Val_loss: 0.8286     Val_accuracy: 0.6777\n",
      "Epoch: 1/2     Step: 6100     Train_loss: 0.7977     Val_loss: 0.8235     Val_accuracy: 0.6806\n",
      "Epoch: 1/2     Step: 6200     Train_loss: 0.7909     Val_loss: 0.8250     Val_accuracy: 0.6788\n",
      "Epoch: 1/2     Step: 6300     Train_loss: 0.8002     Val_loss: 0.8237     Val_accuracy: 0.6797\n",
      "Epoch: 1/2     Step: 6400     Train_loss: 0.8000     Val_loss: 0.8253     Val_accuracy: 0.6794\n",
      "Starting epoch 2\n",
      "Epoch: 2/2     Step: 100     Train_loss: 0.7581     Val_loss: 0.8269     Val_accuracy: 0.6767\n",
      "Epoch: 2/2     Step: 200     Train_loss: 0.7498     Val_loss: 0.8302     Val_accuracy: 0.6772\n",
      "Epoch: 2/2     Step: 300     Train_loss: 0.7535     Val_loss: 0.8276     Val_accuracy: 0.6774\n",
      "Epoch: 2/2     Step: 400     Train_loss: 0.7462     Val_loss: 0.8282     Val_accuracy: 0.6795\n",
      "Epoch: 2/2     Step: 500     Train_loss: 0.7337     Val_loss: 0.8294     Val_accuracy: 0.6790\n",
      "Epoch: 2/2     Step: 600     Train_loss: 0.7544     Val_loss: 0.8276     Val_accuracy: 0.6785\n",
      "Epoch: 2/2     Step: 700     Train_loss: 0.7434     Val_loss: 0.8303     Val_accuracy: 0.6777\n",
      "Epoch: 2/2     Step: 800     Train_loss: 0.7652     Val_loss: 0.8252     Val_accuracy: 0.6797\n",
      "Epoch: 2/2     Step: 900     Train_loss: 0.7472     Val_loss: 0.8256     Val_accuracy: 0.6796\n",
      "Epoch: 2/2     Step: 1000     Train_loss: 0.7604     Val_loss: 0.8285     Val_accuracy: 0.6759\n",
      "Epoch: 2/2     Step: 1100     Train_loss: 0.7512     Val_loss: 0.8309     Val_accuracy: 0.6759\n",
      "Epoch: 2/2     Step: 1200     Train_loss: 0.7580     Val_loss: 0.8251     Val_accuracy: 0.6783\n",
      "Epoch: 2/2     Step: 1300     Train_loss: 0.7521     Val_loss: 0.8295     Val_accuracy: 0.6783\n",
      "Epoch: 2/2     Step: 1400     Train_loss: 0.7550     Val_loss: 0.8287     Val_accuracy: 0.6786\n",
      "Epoch: 2/2     Step: 1500     Train_loss: 0.7531     Val_loss: 0.8263     Val_accuracy: 0.6770\n",
      "Epoch: 2/2     Step: 1600     Train_loss: 0.7491     Val_loss: 0.8244     Val_accuracy: 0.6800\n",
      "Epoch: 2/2     Step: 1700     Train_loss: 0.7523     Val_loss: 0.8240     Val_accuracy: 0.6799\n",
      "Epoch: 2/2     Step: 1800     Train_loss: 0.7508     Val_loss: 0.8236     Val_accuracy: 0.6804\n",
      "Epoch: 2/2     Step: 1900     Train_loss: 0.7564     Val_loss: 0.8214     Val_accuracy: 0.6791\n",
      "Epoch: 2/2     Step: 2000     Train_loss: 0.7552     Val_loss: 0.8225     Val_accuracy: 0.6783\n",
      "Epoch: 2/2     Step: 2100     Train_loss: 0.7320     Val_loss: 0.8285     Val_accuracy: 0.6781\n",
      "Epoch: 2/2     Step: 2200     Train_loss: 0.7520     Val_loss: 0.8205     Val_accuracy: 0.6832\n",
      "Epoch: 2/2     Step: 2300     Train_loss: 0.7670     Val_loss: 0.8200     Val_accuracy: 0.6797\n"
     ]
    },
    {
     "name": "stdout",
     "output_type": "stream",
     "text": [
      "Epoch: 2/2     Step: 2400     Train_loss: 0.7439     Val_loss: 0.8195     Val_accuracy: 0.6818\n",
      "Epoch: 2/2     Step: 2500     Train_loss: 0.7512     Val_loss: 0.8249     Val_accuracy: 0.6784\n",
      "Epoch: 2/2     Step: 2600     Train_loss: 0.7613     Val_loss: 0.8244     Val_accuracy: 0.6787\n",
      "Epoch: 2/2     Step: 2700     Train_loss: 0.7490     Val_loss: 0.8223     Val_accuracy: 0.6800\n",
      "Epoch: 2/2     Step: 2800     Train_loss: 0.7484     Val_loss: 0.8192     Val_accuracy: 0.6821\n",
      "Epoch: 2/2     Step: 2900     Train_loss: 0.7470     Val_loss: 0.8186     Val_accuracy: 0.6823\n",
      "Epoch: 2/2     Step: 3000     Train_loss: 0.7597     Val_loss: 0.8197     Val_accuracy: 0.6817\n",
      "Epoch: 2/2     Step: 3100     Train_loss: 0.7471     Val_loss: 0.8189     Val_accuracy: 0.6821\n",
      "Epoch: 2/2     Step: 3200     Train_loss: 0.7483     Val_loss: 0.8168     Val_accuracy: 0.6831\n",
      "Epoch: 2/2     Step: 3300     Train_loss: 0.7508     Val_loss: 0.8186     Val_accuracy: 0.6825\n",
      "Epoch: 2/2     Step: 3400     Train_loss: 0.7451     Val_loss: 0.8172     Val_accuracy: 0.6835\n",
      "Epoch: 2/2     Step: 3500     Train_loss: 0.7488     Val_loss: 0.8212     Val_accuracy: 0.6821\n",
      "Epoch: 2/2     Step: 3600     Train_loss: 0.7510     Val_loss: 0.8155     Val_accuracy: 0.6817\n",
      "Epoch: 2/2     Step: 3700     Train_loss: 0.7531     Val_loss: 0.8151     Val_accuracy: 0.6830\n",
      "Epoch: 2/2     Step: 3800     Train_loss: 0.7488     Val_loss: 0.8140     Val_accuracy: 0.6836\n",
      "Epoch: 2/2     Step: 3900     Train_loss: 0.7354     Val_loss: 0.8199     Val_accuracy: 0.6816\n",
      "Epoch: 2/2     Step: 4000     Train_loss: 0.7535     Val_loss: 0.8149     Val_accuracy: 0.6806\n",
      "Epoch: 2/2     Step: 4100     Train_loss: 0.7351     Val_loss: 0.8166     Val_accuracy: 0.6827\n",
      "Epoch: 2/2     Step: 4200     Train_loss: 0.7489     Val_loss: 0.8186     Val_accuracy: 0.6831\n",
      "Epoch: 2/2     Step: 4300     Train_loss: 0.7600     Val_loss: 0.8143     Val_accuracy: 0.6832\n",
      "Epoch: 2/2     Step: 4400     Train_loss: 0.7585     Val_loss: 0.8161     Val_accuracy: 0.6828\n",
      "Epoch: 2/2     Step: 4500     Train_loss: 0.7607     Val_loss: 0.8140     Val_accuracy: 0.6834\n",
      "Epoch: 2/2     Step: 4600     Train_loss: 0.7569     Val_loss: 0.8130     Val_accuracy: 0.6828\n",
      "Epoch: 2/2     Step: 4700     Train_loss: 0.7541     Val_loss: 0.8182     Val_accuracy: 0.6782\n",
      "Epoch: 2/2     Step: 4800     Train_loss: 0.7493     Val_loss: 0.8121     Val_accuracy: 0.6841\n",
      "Epoch: 2/2     Step: 4900     Train_loss: 0.7512     Val_loss: 0.8138     Val_accuracy: 0.6818\n",
      "Epoch: 2/2     Step: 5000     Train_loss: 0.7569     Val_loss: 0.8099     Val_accuracy: 0.6860\n",
      "Epoch: 2/2     Step: 5100     Train_loss: 0.7526     Val_loss: 0.8124     Val_accuracy: 0.6834\n",
      "Epoch: 2/2     Step: 5200     Train_loss: 0.7517     Val_loss: 0.8136     Val_accuracy: 0.6826\n",
      "Epoch: 2/2     Step: 5300     Train_loss: 0.7547     Val_loss: 0.8096     Val_accuracy: 0.6844\n",
      "Epoch: 2/2     Step: 5400     Train_loss: 0.7418     Val_loss: 0.8116     Val_accuracy: 0.6848\n",
      "Epoch: 2/2     Step: 5500     Train_loss: 0.7494     Val_loss: 0.8131     Val_accuracy: 0.6867\n",
      "Epoch: 2/2     Step: 5600     Train_loss: 0.7588     Val_loss: 0.8099     Val_accuracy: 0.6855\n",
      "Epoch: 2/2     Step: 5700     Train_loss: 0.7465     Val_loss: 0.8094     Val_accuracy: 0.6853\n",
      "Epoch: 2/2     Step: 5800     Train_loss: 0.7554     Val_loss: 0.8081     Val_accuracy: 0.6857\n",
      "Epoch: 2/2     Step: 5900     Train_loss: 0.7445     Val_loss: 0.8090     Val_accuracy: 0.6856\n",
      "Epoch: 2/2     Step: 6000     Train_loss: 0.7576     Val_loss: 0.8112     Val_accuracy: 0.6849\n",
      "Epoch: 2/2     Step: 6100     Train_loss: 0.7594     Val_loss: 0.8079     Val_accuracy: 0.6855\n",
      "Epoch: 2/2     Step: 6200     Train_loss: 0.7634     Val_loss: 0.8068     Val_accuracy: 0.6864\n",
      "Epoch: 2/2     Step: 6300     Train_loss: 0.7442     Val_loss: 0.8128     Val_accuracy: 0.6836\n",
      "Epoch: 2/2     Step: 6400     Train_loss: 0.7472     Val_loss: 0.8061     Val_accuracy: 0.6861\n"
     ]
    }
   ],
   "source": [
    "\"\"\"\n",
    "Train your model with dropout. Make sure to clip your gradients.\n",
    "Print the training loss, validation loss, and validation accuracy for every 100 steps.\n",
    "\"\"\"\n",
    "\n",
    "epochs = 2\n",
    "batch_size = 128\n",
    "learning_rate = 0.0005\n",
    "\n",
    "print_every = 100\n",
    "criterion = nn.NLLLoss()\n",
    "optimizer = optim.Adam(model.parameters(), lr=learning_rate)\n",
    "model.train()\n",
    "\n",
    "train_losses = []\n",
    "val_losses = []\n",
    "val_accuracies = []\n",
    "\n",
    "for epoch in range(epochs):\n",
    "    print('Starting epoch {}'.format(epoch + 1))\n",
    "    \n",
    "    steps = 0\n",
    "    train_loss = 0\n",
    "    \n",
    "    for text_batch, labels in dataloader(\n",
    "            train_features, train_labels, batch_size=batch_size, sequence_length=20, shuffle=True):\n",
    "        steps += 1\n",
    "        \n",
    "        # TODO Implement: Train Model\n",
    "        \n",
    "        # Set Device\n",
    "        text_batch, labels = text_batch.to(device), labels.to(device)\n",
    "        \n",
    "        hidden = model.init_hidden(labels.shape[0])\n",
    "        for state in hidden:\n",
    "            state.to(device)\n",
    "        \n",
    "        optimizer.zero_grad()\n",
    "        \n",
    "        logs_ps, hidden = model(text_batch, hidden)\n",
    "        \n",
    "        loss = criterion(logs_ps, labels)\n",
    "        loss.backward()\n",
    "        \n",
    "        # clip gradient\n",
    "        nn.utils.clip_grad_norm_(model.parameters(), 5)\n",
    "        optimizer.step()\n",
    "        \n",
    "        train_loss += loss\n",
    "        \n",
    "        \n",
    "        if steps % print_every == 0:\n",
    "            model.eval()\n",
    "            \n",
    "            # TODO Implement: Print metrics\n",
    "            \n",
    "            with torch.no_grad():\n",
    "                \n",
    "                val_loss = 0\n",
    "                val_accuracy = 0\n",
    "                val_steps = 0\n",
    "            \n",
    "                val_loader = dataloader(valid_features, \n",
    "                                        valid_labels, \n",
    "                                        batch_size=batch_size, \n",
    "                                        sequence_length=20, \n",
    "                                        shuffle=True)\n",
    "\n",
    "                for val_text_batch, val_labels in val_loader:\n",
    "                    \n",
    "                    val_steps += 1\n",
    "\n",
    "                    # Set Device\n",
    "                    val_text_batch, val_labels = val_text_batch.to(device), val_labels.to(device)\n",
    "\n",
    "                    val_hidden = model.init_hidden(val_labels.shape[0])\n",
    "                    for state in val_hidden:\n",
    "                        state.to(device)\n",
    "\n",
    "                    val_log_ps, val_hidden = model(val_text_batch, val_hidden)\n",
    "\n",
    "                    ps = torch.exp(val_log_ps)\n",
    "                    val_loss += criterion(val_log_ps, val_labels)\n",
    "\n",
    "                    top_p, top_class = ps.topk(1, dim=1)\n",
    "                    equals = top_class == val_labels.view(*top_class.shape)\n",
    "                    val_accuracy += torch.mean(equals.type(torch.FloatTensor))\n",
    "                \n",
    "            train_losses.append(train_loss/print_every)\n",
    "            val_losses.append(val_loss/val_steps)\n",
    "            val_accuracies.append(val_accuracy/val_steps)\n",
    "\n",
    "            print(f'Epoch: {epoch+1}/{epochs}    ',\n",
    "                  f'Step: {steps}    ', \n",
    "                  f'Train_loss: {train_losses[-1]:.4f}    ', \n",
    "                  f'Val_loss: {val_losses[-1]:.4f}    ',\n",
    "                  f'Val_accuracy: {val_accuracies[-1]:.4f}')\n",
    "            \n",
    "            train_loss = 0\n",
    "\n",
    "            model.train()"
   ]
  },
  {
   "cell_type": "code",
   "execution_count": 21,
   "metadata": {},
   "outputs": [
    {
     "data": {
      "text/plain": [
       "<matplotlib.legend.Legend at 0x7f6ac928d710>"
      ]
     },
     "execution_count": 21,
     "metadata": {},
     "output_type": "execute_result"
    },
    {
     "data": {
      "image/png": "[encoded data removed]",
      "text/plain": [
       "<matplotlib.figure.Figure at 0x7f6ac92eb2e8>"
      ]
     },
     "metadata": {
      "image/png": {
       "height": 250,
       "width": 373
      },
      "needs_background": "light"
     },
     "output_type": "display_data"
    }
   ],
   "source": [
    "%matplotlib inline\n",
    "%config InlineBackend.figure_format = 'retina'\n",
    "\n",
    "import matplotlib.pyplot as plt\n",
    "\n",
    "plt.plot(train_losses, label='Training loss')\n",
    "plt.plot(val_losses, label='Validation loss')\n",
    "plt.legend(frameon=False)"
   ]
  },
  {
   "cell_type": "markdown",
   "metadata": {},
   "source": [
    "## Making Predictions\n",
    "### Prediction \n",
    "Okay, now that you have a trained model, try it on some new twits and see if it works appropriately. Remember that for any new text, you'll need to preprocess it first before passing it to the network. Implement the `predict` function to generate the prediction vector from a message."
   ]
  },
  {
   "cell_type": "code",
   "execution_count": 22,
   "metadata": {},
   "outputs": [],
   "source": [
    "def predict(text, model, vocab):\n",
    "    \"\"\" \n",
    "    Make a prediction on a single sentence.\n",
    "\n",
    "    Parameters\n",
    "    ----------\n",
    "        text : The string to make a prediction on.\n",
    "        model : The model to use for making the prediction.\n",
    "        vocab : Dictionary for word to word ids. The key is the word and the value is the word id.\n",
    "\n",
    "    Returns\n",
    "    -------\n",
    "        pred : Prediction vector\n",
    "    \"\"\"    \n",
    "    \n",
    "    # TODO Implement\n",
    "    \n",
    "    tokens = preprocess(text)\n",
    "    \n",
    "    # Filter non-vocab words\n",
    "    tokens = [w for w in tokens if w in filtered_words]\n",
    "    # Convert words to ids\n",
    "    tokens = [vocab[word] for word in tokens]\n",
    "        \n",
    "    # Adding a batch dimension\n",
    "    text_input = torch.tensor(tokens).unsqueeze(1)\n",
    "    # Get the NN output\n",
    "    hidden = model.init_hidden(text_input.size(1))\n",
    "    logps, _ = model(text_input, hidden)\n",
    "    # Take the exponent of the NN output to get a range of 0 to 1 for each label.\n",
    "    pred = torch.exp(logps)\n",
    "    \n",
    "    return pred"
   ]
  },
  {
   "cell_type": "code",
   "execution_count": 23,
   "metadata": {},
   "outputs": [
    {
     "data": {
      "text/plain": [
       "tensor([[ 0.0001,  0.0043,  0.0054,  0.7832,  0.2071]])"
      ]
     },
     "execution_count": 23,
     "metadata": {},
     "output_type": "execute_result"
    }
   ],
   "source": [
    "text = \"Google is working on self driving cars, I'm bullish on $goog\"\n",
    "model.eval()\n",
    "model.to(\"cpu\")\n",
    "predict(text, model, vocab)"
   ]
  },
  {
   "cell_type": "markdown",
   "metadata": {},
   "source": [
    "### Questions: What is the prediction of the model? What is the uncertainty of the prediction?\n",
    "** TODO: Answer Question**"
   ]
  },
  {
   "cell_type": "markdown",
   "metadata": {},
   "source": [
    "**Answer:** the output of the model are probabilities of the sentiment classes for an input message. These probabilities sum to 1 and they indicate the degree of belonging of the message to each sentiment class. The sentiment of the input message predicted by the model is giving by the sentiment class with the highest probability. Due to this, we can say that there is an uncertainty in the prediction."
   ]
  },
  {
   "cell_type": "markdown",
   "metadata": {},
   "source": [
    "Now we have a trained model and we can make predictions. We can use this model to track the sentiments of various stocks by predicting the sentiments of twits as they are coming in. Now we have a stream of twits. For each of those twits, pull out the stocks mentioned in them and keep track of the sentiments. Remember that in the twits, ticker symbols are encoded with a dollar sign as the first character, all caps, and 2-4 letters, like $AAPL. Ideally, you'd want to track the sentiments of the stocks in your universe and use this as a signal in your larger model(s).\n",
    "\n",
    "## Testing\n",
    "### Load the Data "
   ]
  },
  {
   "cell_type": "code",
   "execution_count": 24,
   "metadata": {},
   "outputs": [],
   "source": [
    "with open(os.path.join('..', '..', 'data', 'project_6_stocktwits', 'test_twits.json'), 'r') as f:\n",
    "    test_data = json.load(f)"
   ]
  },
  {
   "cell_type": "markdown",
   "metadata": {},
   "source": [
    "### Twit Stream"
   ]
  },
  {
   "cell_type": "code",
   "execution_count": 25,
   "metadata": {},
   "outputs": [
    {
     "data": {
      "text/plain": [
       "{'message_body': '$JWN has moved -1.69% on 10-31. Check out the movement and peers at  https://dividendbot.com?s=JWN',\n",
       " 'timestamp': '2018-11-01T00:00:05Z'}"
      ]
     },
     "execution_count": 25,
     "metadata": {},
     "output_type": "execute_result"
    }
   ],
   "source": [
    "def twit_stream():\n",
    "    for twit in test_data['data']:\n",
    "        yield twit\n",
    "\n",
    "next(twit_stream())"
   ]
  },
  {
   "cell_type": "markdown",
   "metadata": {},
   "source": [
    "Using the `prediction` function, let's apply it to a stream of twits."
   ]
  },
  {
   "cell_type": "code",
   "execution_count": 26,
   "metadata": {},
   "outputs": [],
   "source": [
    "def score_twits(stream, model, vocab, universe):\n",
    "    \"\"\" \n",
    "    Given a stream of twits and a universe of tickers, return sentiment scores for tickers in the universe.\n",
    "    \"\"\"\n",
    "    for twit in stream:\n",
    "\n",
    "        # Get the message text\n",
    "        text = twit['message_body']\n",
    "        symbols = re.findall('\\$[A-Z]{2,4}', text)\n",
    "        score = predict(text, model, vocab)\n",
    "\n",
    "        for symbol in symbols:\n",
    "            if symbol in universe:\n",
    "                yield {'symbol': symbol, 'score': score, 'timestamp': twit['timestamp']}"
   ]
  },
  {
   "cell_type": "code",
   "execution_count": 27,
   "metadata": {},
   "outputs": [
    {
     "data": {
      "text/plain": [
       "{'symbol': '$AAPL',\n",
       " 'score': tensor([[ 0.0954,  0.0963,  0.1390,  0.2375,  0.4318]]),\n",
       " 'timestamp': '2018-11-01T00:00:18Z'}"
      ]
     },
     "execution_count": 27,
     "metadata": {},
     "output_type": "execute_result"
    }
   ],
   "source": [
    "universe = {'$BBRY', '$AAPL', '$AMZN', '$BABA', '$YHOO', '$LQMT', '$FB', '$GOOG', '$BBBY', '$JNUG', '$SBUX', '$MU'}\n",
    "score_stream = score_twits(twit_stream(), model, vocab, universe)\n",
    "\n",
    "next(score_stream)"
   ]
  },
  {
   "cell_type": "markdown",
   "metadata": {},
   "source": [
    "That's it. You have successfully built a model for sentiment analysis! "
   ]
  },
  {
   "cell_type": "markdown",
   "metadata": {},
   "source": [
    "## Submission\n",
    "Now that you're done with the project, it's time to submit it. Click the submit button in the bottom right. One of our reviewers will give you feedback on your project with a pass or not passed grade. You can continue to the next section while you wait for feedback."
   ]
  },
  {
   "cell_type": "code",
   "execution_count": null,
   "metadata": {},
   "outputs": [],
   "source": []
  }
 ],
 "metadata": {
  "kernelspec": {
   "display_name": "Python 3",
   "language": "python",
   "name": "python3"
  },
  "language_info": {
   "codemirror_mode": {
    "name": "ipython",
    "version": 3
   },
   "file_extension": ".py",
   "mimetype": "text/x-python",
   "name": "python",
   "nbconvert_exporter": "python",
   "pygments_lexer": "ipython3",
   "version": "3.6.3"
  }
 },
 "nbformat": 4,
 "nbformat_minor": 2
}
